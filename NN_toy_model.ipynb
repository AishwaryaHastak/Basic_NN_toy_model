from torch.utils.data.dataset import TensorDataset
from IPython.testing import test
import torch
## It is recommended that using a class to customize the Dataset
## so that you can create an iterable loader by DataLoader.
from torch.utils.data import Dataset, DataLoader
## using matplotlib to plot your losses
import matplotlib.pyplot as plt
from torch import nn
from torch import optim
import pandas as pd
import numpy as np



class train_data(Dataset):
   def __init__(self,  dataset,lr):
      # Initialize random weights and biases
      self.weight = torch.tensor([50, 50, 50 ]).float()
      self.bias = torch.randn(1).float()
      self.dataset = dataset
      self.lr = lr
      self.len = self.dataset[0][0].shape[0]
   def __len__(self):
    return self.len
   def __getitem__(self, index):
    return self.train[index]


class test_data(Dataset):
   ## your code is here
  def __init__(self,dataset):
    self.lr = torch.tensor([1/70, 1/12, 1/27]).float()
    self.dataset = dataset
    self.len = dataset[0][0].shape[0]

  # Define a function test_model that will test the parameters tunned model
  # against the test data, and return the testing losses
  def test_model(self,wt, bias):

    # Initialze array to store losses
    losses = []
    #for i in range(self.len):
    for X,y in self.dataset:
        price = X @ wt.t() + bias
        # Measure loss
        loss = ((y - price) ** 2)/2
        losses.append(loss)
        print('Predicted Price: ', price, ', Actual Price: ',y)

    print('\n ---------------------\n')
    return losses


## In this case you should run delta_rule(model, train_loader) and
## batch_delta_rule(model, train_loader) respectively.
## Applying the above weights updating methods to train
## your model instead of using the training API of pytorch.
## Again, you can complete it in your own way

#-----------------------------------------------------------------------#
#----------------------------DELTA MODEL--------------------------------#
#-----------------------------------------------------------------------#

# DELTA MODEL
def delta_model(x):
    wt = x.weight
    bias = x.bias
    losses = []
    i = 0

    # Iterate over all training samples
    #for i in range(x.__len__()):
    for X,y in x.dataset:
      # Estimate the price by applying the linear model
      price = X @ wt.t() + bias
      # Measure loss
      loss = ((y - price) ** 2)/2

      # Append loss in each iteration to the losses array
      losses.append(loss)

      # Calculate Gradient
      for j in range(len(wt)):
        grad = - X[j] * (y - price)

        # Update weights
        wt[j] = wt[j] - x.lr[i]*grad
      i+=1


  # PLOT THE ITERATIVE LOSS
    plt.plot(list(range(4)),losses)
    for a,b in zip(list(range(4)),losses):
        plt.text(a, b+500, str(int(b)))
    plt.xlabel("Iterations")
    plt.ylabel("Losses")
    plt.title("Plot of training loss after each iteration")
    plt.show()
    return wt,bias

#-----------------------------------------------------------------------#
#---------------------BATCH DELTA MODEL---------------------------------#
#-----------------------------------------------------------------------#

# BATCH DELTA MODEL
def batch_delta_model(x):
  num_epochs = 10
  # Initialize weights and biases
  wt = x.weight
  bias = x.bias
  # Initialze array to store losses after each epoch
  losses = []
  dataloader = DataLoader(x.dataset, shuffle = True, batch_size = 3)
  for epoch in range(num_epochs):
    total_loss = 0
    #for i in range(x.__len__()):
    for X,y in dataloader:
      price = X @ wt.t() + bias

      # Measure loss
      loss = ((y - price) ** 2)/2
      total_loss += torch.sum(loss)/3

      # Calculate Gradient
      for j in range(len(wt)):
        grad = - X[j] * (y - price)
        # Get the average of all the gradients in this batch
        avg_grad = torch.sum(grad)/3

        # Update weights
        wt[j] = wt[j] - x.lr*avg_grad
    # Append the average loss after epoch to losses array
    losses.append(total_loss/x.__len__())

# PLOT THE EPOCH LOSS
  plt.plot(list(range(10)),losses)
  for a,b in zip(list(range(10)),losses):
      plt.text(a, b+500, str(int(b)))
  plt.xlabel("Epoch")
  plt.ylabel("Losses")
  plt.title("Plot of training loss after each epoch")
  plt.show()
  return wt,bias


#-----------------------------------------------------------------------#
#-----------------------------------------------------------------------#
# MAIN METHOD
#-----------------------------------------------------------------------#
#-----------------------------------------------------------------------#

# Read training and testing datasets
# Delta Rule training data
train_dataset = pd.read_excel(r"train_dataset.xlsx", header = 0)

# Batch Delta Rule training data
batch_train_dataset = pd.read_excel(r"batch_train_dataset.xlsx", header = 0)

test_dataset = pd.read_excel(r"test_dataset.xlsx", header = 0)

# Initialize learning rate for delta rule
learning_rt = torch.tensor([1/70, 1/12, 1/27, 1/10]).float()

# Initialize learning rate for batch delta rule
batch_learning_rt = torch.tensor([1/100]).float()


print('\n\n ------------------------------------------------------------------------------------')
print(' ------------------------------------DELTA MODEL-------------------------------------')
print(' ------------------------------------------------------------------------------------')

# Create instance of delta model and train it
feature = torch.tensor(np.array(train_dataset.loc[:,['Fish', 'Chips','Ketchup']])).float()
target = torch.tensor(np.array(train_dataset.loc[:,'TotalPrice'])).float()
dataset = TensorDataset(feature, target )
delta_obj = train_data(dataset, learning_rt)

weight, bias = delta_model(delta_obj)
print('\n ---------------------\n Final weight and bias:', weight, bias)

feature = torch.tensor(np.array(test_dataset.loc[:,['Fish', 'Chips','Ketchup']])).float()
target = torch.tensor(np.array(test_dataset.loc[:,'TotalPrice'])).float()
dataset = TensorDataset(feature, target )
test_obj = test_data(dataset)
losses = test_obj.test_model(weight, bias)
print('\n ---------------------\n Testing losses:')

# PLOT THE ITERATIVE LOSS
plt.plot(list(range(3)),losses)
for a,b in zip(list(range(3)),losses):
    plt.text(a, b, str(int(b)))
plt.xlabel("Iterations")
plt.ylabel("Losses")
plt.title("Plot of testing loss after each iteration")
plt.show()

print('\n\n ------------------------------------------------------------------------------------')
print(' ---------------------------------BATCH DELTA MODEL----------------------------------')
print(' ------------------------------------------------------------------------------------')

# Create instance of batch delta model and train it
feature = torch.tensor(np.array(batch_train_dataset.loc[:,['Fish', 'Chips','Ketchup']])).float()
target = torch.tensor(np.array(batch_train_dataset.loc[:,'TotalPrice'])).float()
dataset = TensorDataset(feature, target )
batch_delta_obj = train_data(dataset, batch_learning_rt)
weight, bias = batch_delta_model(batch_delta_obj)
print('\n ---------------------\n Final weight and bias:', weight, bias)


feature = torch.tensor(np.array(test_dataset.loc[:,['Fish', 'Chips','Ketchup']])).float()
target = torch.tensor(np.array(test_dataset.loc[:,'TotalPrice'])).float()
dataset = TensorDataset(feature, target )
test_obj = test_data(dataset)
losses = test_obj.test_model(weight, bias)

print('\n ---------------------\n Testing losses:')
# PLOT THE LOSS AFTER EACH EPOCH
plt.plot(list(range(3)),losses)
for a,b in zip(list(range(3)),losses):
    plt.text(a, b, str(int(b)))
plt.xlabel("Iterations")
plt.ylabel("Losses")
plt.title("Plot of testing loss after each epoch")
plt.show()
